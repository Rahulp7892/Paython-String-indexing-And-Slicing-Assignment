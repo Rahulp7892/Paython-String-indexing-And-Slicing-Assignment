{
 "cells": [
  {
   "cell_type": "raw",
   "id": "d450d7a6-2dcf-4667-a5dc-a8946ed966a0",
   "metadata": {},
   "source": [
    "Q1. How can we store a single quote (') as a string in a variable ?"
   ]
  },
  {
   "cell_type": "code",
   "execution_count": 1,
   "id": "6382444f-020f-4f80-a752-3d3c6af9cb37",
   "metadata": {},
   "outputs": [],
   "source": [
    "R = 'Rahul'"
   ]
  },
  {
   "cell_type": "code",
   "execution_count": 2,
   "id": "95d9ff5e-5e03-4469-bcc1-5be836492b98",
   "metadata": {},
   "outputs": [
    {
     "data": {
      "text/plain": [
       "'Rahul'"
      ]
     },
     "execution_count": 2,
     "metadata": {},
     "output_type": "execute_result"
    }
   ],
   "source": [
    "R"
   ]
  },
  {
   "cell_type": "code",
   "execution_count": 3,
   "id": "b9d91b72-e9ff-4ebf-92e4-e49c07fb955d",
   "metadata": {},
   "outputs": [
    {
     "data": {
      "text/plain": [
       "str"
      ]
     },
     "execution_count": 3,
     "metadata": {},
     "output_type": "execute_result"
    }
   ],
   "source": [
    "type (R)"
   ]
  },
  {
   "cell_type": "raw",
   "id": "69dd15ec-dba1-4b78-bd52-14233e3ecc65",
   "metadata": {},
   "source": [
    "Q2. Refer the below variable:"
   ]
  },
  {
   "cell_type": "raw",
   "id": "b9e809d0-a679-4c05-be1c-1094f3161324",
   "metadata": {},
   "source": [
    "x = 'a'"
   ]
  },
  {
   "cell_type": "raw",
   "id": "60d01873-9ce2-4b51-ba44-4ff9d5729410",
   "metadata": {},
   "source": [
    "Here, is x a character type or string type variable ? Support your answer with an explanation."
   ]
  },
  {
   "cell_type": "raw",
   "id": "e07ab6ea-d9bc-4a1a-aae7-af64e7168ba8",
   "metadata": {},
   "source": [
    "Ans. x is a string type variable."
   ]
  },
  {
   "cell_type": "raw",
   "id": "4daf37b6-306c-4d69-a533-312076e14d70",
   "metadata": {},
   "source": [
    "For Example :"
   ]
  },
  {
   "cell_type": "code",
   "execution_count": 6,
   "id": "6f828376-4a6f-4246-bf95-3005e96d9875",
   "metadata": {},
   "outputs": [],
   "source": [
    "x = 'a'"
   ]
  },
  {
   "cell_type": "code",
   "execution_count": 7,
   "id": "d8467fe6-c7a1-4716-9d8d-521e0a5273f4",
   "metadata": {},
   "outputs": [
    {
     "data": {
      "text/plain": [
       "'a'"
      ]
     },
     "execution_count": 7,
     "metadata": {},
     "output_type": "execute_result"
    }
   ],
   "source": [
    "x"
   ]
  },
  {
   "cell_type": "code",
   "execution_count": 8,
   "id": "3e1ae20b-75ef-4e29-b2dc-c0085b573d13",
   "metadata": {},
   "outputs": [
    {
     "data": {
      "text/plain": [
       "str"
      ]
     },
     "execution_count": 8,
     "metadata": {},
     "output_type": "execute_result"
    }
   ],
   "source": [
    "type(x)"
   ]
  },
  {
   "cell_type": "raw",
   "id": "ad1f51a5-b9f1-4f21-9bc8-a05717467c83",
   "metadata": {},
   "source": [
    "Q3. Apply the following function on this variable: 'Welcome to paython foundation course'"
   ]
  },
  {
   "cell_type": "raw",
   "id": "ff861d15-c9ce-4c6b-aebb-08834695b1f5",
   "metadata": {},
   "source": [
    "1. find ()"
   ]
  },
  {
   "cell_type": "raw",
   "id": "84c19c2a-5c72-4c25-8f03-7c17df630f4b",
   "metadata": {},
   "source": [
    "2. count ()"
   ]
  },
  {
   "cell_type": "raw",
   "id": "22cbef1f-0160-4fb4-bba5-7bfc326a5118",
   "metadata": {},
   "source": [
    "3. len"
   ]
  },
  {
   "cell_type": "raw",
   "id": "daf0b68d-9242-418f-9688-5e406bdde7ee",
   "metadata": {},
   "source": [
    "4. Concatension"
   ]
  },
  {
   "cell_type": "raw",
   "id": "99cb4f99-c8f2-4fc4-9537-399186569cd5",
   "metadata": {},
   "source": [
    "Note: You can use your choice of parameters. But make sure it is correct."
   ]
  },
  {
   "cell_type": "raw",
   "id": "fe3133e7-d7b5-4ad7-8754-a72c9c4638b5",
   "metadata": {},
   "source": [
    "Ans."
   ]
  },
  {
   "cell_type": "code",
   "execution_count": 14,
   "id": "4a7280a0-7226-4d10-9d10-02e63713c73f",
   "metadata": {},
   "outputs": [],
   "source": [
    "s = 'Welcome to paython foundation course'"
   ]
  },
  {
   "cell_type": "code",
   "execution_count": 15,
   "id": "26dd0a76-27f6-45c3-800f-075ee81843af",
   "metadata": {},
   "outputs": [
    {
     "data": {
      "text/plain": [
       "'Welcome to paython foundation course'"
      ]
     },
     "execution_count": 15,
     "metadata": {},
     "output_type": "execute_result"
    }
   ],
   "source": [
    "s"
   ]
  },
  {
   "cell_type": "code",
   "execution_count": 16,
   "id": "eeed18d1-4dbc-4528-89f9-06469d3209b9",
   "metadata": {},
   "outputs": [
    {
     "data": {
      "text/plain": [
       "str"
      ]
     },
     "execution_count": 16,
     "metadata": {},
     "output_type": "execute_result"
    }
   ],
   "source": [
    "type (s)"
   ]
  },
  {
   "cell_type": "raw",
   "id": "2c48c06b-07a4-45aa-a3ae-e067867c6dfd",
   "metadata": {},
   "source": [
    "s.find('p')"
   ]
  },
  {
   "cell_type": "code",
   "execution_count": 19,
   "id": "5bf637e7-9b05-476d-965f-fa71eb587599",
   "metadata": {},
   "outputs": [
    {
     "data": {
      "text/plain": [
       "2"
      ]
     },
     "execution_count": 19,
     "metadata": {},
     "output_type": "execute_result"
    }
   ],
   "source": [
    "s.count('c')"
   ]
  },
  {
   "cell_type": "code",
   "execution_count": 20,
   "id": "54b3d4ac-5c86-4f69-96a8-03baa9961cab",
   "metadata": {},
   "outputs": [
    {
     "data": {
      "text/plain": [
       "36"
      ]
     },
     "execution_count": 20,
     "metadata": {},
     "output_type": "execute_result"
    }
   ],
   "source": [
    "len(s)"
   ]
  },
  {
   "cell_type": "raw",
   "id": "b6350841-d489-465d-9133-56b6153f6980",
   "metadata": {},
   "source": [
    "Concatenation"
   ]
  },
  {
   "cell_type": "code",
   "execution_count": 41,
   "id": "f110dea1-d534-439d-9427-70752b068544",
   "metadata": {},
   "outputs": [],
   "source": [
    "a = 'Welcome to'"
   ]
  },
  {
   "cell_type": "code",
   "execution_count": 42,
   "id": "dcb8fe82-2f6a-43c2-8d3a-dae41f371318",
   "metadata": {},
   "outputs": [
    {
     "data": {
      "text/plain": [
       "'Welcome to'"
      ]
     },
     "execution_count": 42,
     "metadata": {},
     "output_type": "execute_result"
    }
   ],
   "source": [
    "a"
   ]
  },
  {
   "cell_type": "code",
   "execution_count": 43,
   "id": "af2df391-92d9-4233-8fd1-f1ec07d4117c",
   "metadata": {},
   "outputs": [
    {
     "data": {
      "text/plain": [
       "str"
      ]
     },
     "execution_count": 43,
     "metadata": {},
     "output_type": "execute_result"
    }
   ],
   "source": [
    "type (a)"
   ]
  },
  {
   "cell_type": "code",
   "execution_count": 44,
   "id": "98042aac-2045-400f-9784-6b1795e587e8",
   "metadata": {},
   "outputs": [],
   "source": [
    "b = 'Paython foundation course'"
   ]
  },
  {
   "cell_type": "code",
   "execution_count": 45,
   "id": "ae77c857-160d-4114-9da0-207ff57d2dc9",
   "metadata": {},
   "outputs": [
    {
     "data": {
      "text/plain": [
       "'Paython foundation course'"
      ]
     },
     "execution_count": 45,
     "metadata": {},
     "output_type": "execute_result"
    }
   ],
   "source": [
    "b"
   ]
  },
  {
   "cell_type": "code",
   "execution_count": 46,
   "id": "0dfec8a8-e0b4-4700-925d-b1e462d14df6",
   "metadata": {},
   "outputs": [
    {
     "data": {
      "text/plain": [
       "str"
      ]
     },
     "execution_count": 46,
     "metadata": {},
     "output_type": "execute_result"
    }
   ],
   "source": [
    "type (b)"
   ]
  },
  {
   "cell_type": "code",
   "execution_count": 47,
   "id": "2e0f0406-1d78-41eb-9c80-559e9a7bf353",
   "metadata": {},
   "outputs": [
    {
     "data": {
      "text/plain": [
       "'Welcome toPaython foundation course'"
      ]
     },
     "execution_count": 47,
     "metadata": {},
     "output_type": "execute_result"
    }
   ],
   "source": [
    "a+ b"
   ]
  },
  {
   "cell_type": "raw",
   "id": "e8ae2422-68cf-4e8e-8d5b-738b60c1f7aa",
   "metadata": {},
   "source": [
    "Q4. For the variable: word = 'Panaji@12256'"
   ]
  },
  {
   "cell_type": "raw",
   "id": "deca10ce-cc76-4447-a1f4-a4ec8875e0eb",
   "metadata": {},
   "source": [
    "Calculate the following:"
   ]
  },
  {
   "cell_type": "raw",
   "id": "f152996e-628d-494f-80a0-8320d8cb406c",
   "metadata": {},
   "source": [
    "(a) Total number of alphabets in lowrcase"
   ]
  },
  {
   "cell_type": "raw",
   "id": "2fc8a3e2-0384-4615-95be-c8e8ab1ff60b",
   "metadata": {},
   "source": [
    "(b) Total number of alphabets in uppercase"
   ]
  },
  {
   "cell_type": "raw",
   "id": "ffdf3157-3a35-4332-82a8-97d4fdb642e1",
   "metadata": {},
   "source": [
    "(c) Total number of numerical in string"
   ]
  },
  {
   "cell_type": "code",
   "execution_count": 49,
   "id": "b7a558f7-2e25-47d6-9463-7840c5028202",
   "metadata": {},
   "outputs": [],
   "source": [
    "s = 'Panaji@12256'"
   ]
  },
  {
   "cell_type": "code",
   "execution_count": 50,
   "id": "b2234424-9fe0-478b-abb6-75abd2af484d",
   "metadata": {},
   "outputs": [
    {
     "data": {
      "text/plain": [
       "'Panaji@12256'"
      ]
     },
     "execution_count": 50,
     "metadata": {},
     "output_type": "execute_result"
    }
   ],
   "source": [
    "s"
   ]
  },
  {
   "cell_type": "raw",
   "id": "4b8cb9c4-e411-403d-bd8b-dc22932df5c4",
   "metadata": {},
   "source": [
    "type(s)"
   ]
  },
  {
   "cell_type": "code",
   "execution_count": 52,
   "id": "72f86b2e-ca1c-4a7b-9c8a-336d4cbba324",
   "metadata": {},
   "outputs": [
    {
     "data": {
      "text/plain": [
       "'panaji@12256'"
      ]
     },
     "execution_count": 52,
     "metadata": {},
     "output_type": "execute_result"
    }
   ],
   "source": [
    "s.lower()"
   ]
  },
  {
   "cell_type": "code",
   "execution_count": 53,
   "id": "989f76f7-e2f1-4ae5-aedc-9925c1786f87",
   "metadata": {},
   "outputs": [
    {
     "data": {
      "text/plain": [
       "'PANAJI@12256'"
      ]
     },
     "execution_count": 53,
     "metadata": {},
     "output_type": "execute_result"
    }
   ],
   "source": [
    "s.upper()"
   ]
  },
  {
   "cell_type": "code",
   "execution_count": 55,
   "id": "138d8b37-8cac-44c3-97d1-d19af83c4466",
   "metadata": {},
   "outputs": [
    {
     "data": {
      "text/plain": [
       "1"
      ]
     },
     "execution_count": 55,
     "metadata": {},
     "output_type": "execute_result"
    }
   ],
   "source": [
    "s.count('Panaji@12256')"
   ]
  },
  {
   "cell_type": "raw",
   "id": "50534a34-5f97-4d6e-96aa-07cfe811315a",
   "metadata": {},
   "source": [
    "Q5. Write a code to store a numerical value inside a variable then convert it into string."
   ]
  },
  {
   "cell_type": "raw",
   "id": "2e384219-5cee-4b20-a08b-fbb6831568b8",
   "metadata": {},
   "source": [
    "Ans."
   ]
  },
  {
   "cell_type": "code",
   "execution_count": 57,
   "id": "b1e19825-2f0f-4bab-b4d6-fee0e19261e1",
   "metadata": {},
   "outputs": [],
   "source": [
    "a = 123"
   ]
  },
  {
   "cell_type": "code",
   "execution_count": 58,
   "id": "39866899-048c-442c-9043-778c3e4f6434",
   "metadata": {},
   "outputs": [
    {
     "data": {
      "text/plain": [
       "123"
      ]
     },
     "execution_count": 58,
     "metadata": {},
     "output_type": "execute_result"
    }
   ],
   "source": [
    "a"
   ]
  },
  {
   "cell_type": "code",
   "execution_count": 59,
   "id": "a0ca3503-8210-4640-9b83-37a8bbef5f2c",
   "metadata": {},
   "outputs": [
    {
     "data": {
      "text/plain": [
       "int"
      ]
     },
     "execution_count": 59,
     "metadata": {},
     "output_type": "execute_result"
    }
   ],
   "source": [
    "type(a)"
   ]
  },
  {
   "cell_type": "code",
   "execution_count": 60,
   "id": "ae0a10cb-6be6-4253-90a2-05a87c0cb22d",
   "metadata": {},
   "outputs": [],
   "source": [
    "a = str(123)"
   ]
  },
  {
   "cell_type": "code",
   "execution_count": 61,
   "id": "eb87d1bc-6730-4361-ad0c-2033dea46554",
   "metadata": {},
   "outputs": [
    {
     "data": {
      "text/plain": [
       "'123'"
      ]
     },
     "execution_count": 61,
     "metadata": {},
     "output_type": "execute_result"
    }
   ],
   "source": [
    "a"
   ]
  },
  {
   "cell_type": "code",
   "execution_count": 62,
   "id": "56b29dfc-ff9c-469f-b27b-4a754e55ee1e",
   "metadata": {},
   "outputs": [
    {
     "data": {
      "text/plain": [
       "str"
      ]
     },
     "execution_count": 62,
     "metadata": {},
     "output_type": "execute_result"
    }
   ],
   "source": [
    "type (a)"
   ]
  },
  {
   "cell_type": "code",
   "execution_count": null,
   "id": "0a741130-637c-438a-8a14-2300d71ce63f",
   "metadata": {},
   "outputs": [],
   "source": []
  }
 ],
 "metadata": {
  "kernelspec": {
   "display_name": "Python 3 (ipykernel)",
   "language": "python",
   "name": "python3"
  },
  "language_info": {
   "codemirror_mode": {
    "name": "ipython",
    "version": 3
   },
   "file_extension": ".py",
   "mimetype": "text/x-python",
   "name": "python",
   "nbconvert_exporter": "python",
   "pygments_lexer": "ipython3",
   "version": "3.10.8"
  }
 },
 "nbformat": 4,
 "nbformat_minor": 5
}
